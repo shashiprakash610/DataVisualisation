{
 "cells": [
  {
   "cell_type": "markdown",
   "id": "2dd36c6f-51b8-45c2-9650-17e308a84197",
   "metadata": {},
   "source": [
    "# Importing  libraries"
   ]
  },
  {
   "cell_type": "code",
   "execution_count": 1,
   "id": "a951c544",
   "metadata": {},
   "outputs": [],
   "source": [
    "import pandas as pd"
   ]
  },
  {
   "cell_type": "code",
   "execution_count": 2,
   "id": "a948ecc8",
   "metadata": {},
   "outputs": [],
   "source": [
    "import numpy as np"
   ]
  },
  {
   "cell_type": "code",
   "execution_count": 3,
   "id": "e64c74a5",
   "metadata": {},
   "outputs": [],
   "source": [
    "import matplotlib.pyplot as plt ;\n",
    "from matplotlib.animation import FuncAnimation;"
   ]
  },
  {
   "cell_type": "markdown",
   "id": "c5c53ed8-a1ed-4aa7-be55-527419ff3153",
   "metadata": {},
   "source": [
    "# Importing the data  from csv file to dataframe."
   ]
  },
  {
   "cell_type": "code",
   "execution_count": 4,
   "id": "4b4d963f",
   "metadata": {},
   "outputs": [],
   "source": [
    "timesheet = pd.read_csv('/Users/shashi/Downloads/TimeDataModule-2.csv',delimiter=',',usecols=range(2))"
   ]
  },
  {
   "cell_type": "code",
   "execution_count": 5,
   "id": "d7fd7fb8",
   "metadata": {},
   "outputs": [
    {
     "name": "stdout",
     "output_type": "stream",
     "text": [
      "          time  step\n",
      "0     15.52308     0\n",
      "1     15.77696     0\n",
      "2     16.04755     0\n",
      "3     16.32018     0\n",
      "4     16.57138     0\n",
      "..         ...   ...\n",
      "852  239.89750    19\n",
      "853  240.16020    19\n",
      "854  240.41850    19\n",
      "855  240.66870    19\n",
      "856  240.93250    19\n",
      "\n",
      "[857 rows x 2 columns]\n"
     ]
    }
   ],
   "source": [
    "print (timesheet)"
   ]
  },
  {
   "cell_type": "code",
   "execution_count": 6,
   "id": "6d328d16",
   "metadata": {
    "scrolled": true
   },
   "outputs": [
    {
     "data": {
      "text/plain": [
       "0     15.52308\n",
       "1     15.77696\n",
       "2     16.04755\n",
       "3     16.32018\n",
       "4     16.57138\n",
       "5     16.83457\n",
       "6     17.08951\n",
       "7     17.35438\n",
       "8     17.61776\n",
       "9     17.87043\n",
       "10    18.13245\n",
       "11    18.38618\n",
       "12    18.64673\n",
       "13    18.89849\n",
       "14    19.15060\n",
       "15    19.41247\n",
       "16    19.66587\n",
       "17    19.92876\n",
       "18    20.18270\n",
       "19    20.44654\n",
       "20    20.70384\n",
       "21    20.95490\n",
       "22    21.21413\n",
       "23    21.47525\n",
       "24    21.73911\n",
       "25    22.00573\n",
       "26    22.26845\n",
       "27    22.53441\n",
       "28    22.78583\n",
       "29    23.04761\n",
       "30    23.30140\n",
       "31    23.56656\n",
       "32    30.06354\n",
       "33    30.32066\n",
       "34    30.57920\n",
       "35    30.83046\n",
       "36    31.08297\n",
       "37    31.34775\n",
       "38    31.65338\n",
       "39    31.90524\n",
       "40    32.15976\n",
       "41    32.43271\n",
       "42    32.69687\n",
       "43    32.94810\n",
       "44    33.20119\n",
       "45    33.45680\n",
       "46    33.71401\n",
       "47    33.96665\n",
       "48    34.23947\n",
       "Name: time, dtype: float64"
      ]
     },
     "execution_count": 6,
     "metadata": {},
     "output_type": "execute_result"
    }
   ],
   "source": [
    "timesheet[timesheet['step']==0]['time']"
   ]
  },
  {
   "cell_type": "code",
   "execution_count": 7,
   "id": "ce0b2408",
   "metadata": {},
   "outputs": [],
   "source": [
    "steps=timesheet['step'].unique()\n",
    "dict1={}\n",
    "for i in steps:\n",
    "    data=timesheet[timesheet['step']==i]['time']\n",
    "   # print (data)\n",
    "    dict1[i]=data.max()-data.min()"
   ]
  },
  {
   "cell_type": "code",
   "execution_count": 8,
   "id": "24f6a82e-a5c0-43a4-bd99-8ecb9231bf44",
   "metadata": {},
   "outputs": [],
   "source": [
    "# dict1 is showing which steps took, how much time ."
   ]
  },
  {
   "cell_type": "code",
   "execution_count": 9,
   "id": "a21031ed",
   "metadata": {
    "scrolled": true
   },
   "outputs": [],
   "source": [
    "#dict1 "
   ]
  },
  {
   "cell_type": "markdown",
   "id": "eab00b95-1998-49b7-9ac6-e2626bf61754",
   "metadata": {},
   "source": [
    "#  Ploting a bar chart from the dictionary .Red bar is showing maximum time and yellow is showing min time taken  during the process."
   ]
  },
  {
   "cell_type": "code",
   "execution_count": 10,
   "id": "958f8bd9",
   "metadata": {},
   "outputs": [
    {
     "data": {
      "image/png": "[encoded data removed]",
      "text/plain": [
       "<Figure size 640x480 with 1 Axes>"
      ]
     },
     "metadata": {},
     "output_type": "display_data"
    }
   ],
   "source": [
    "dict1\n",
    "# assigning colour to max and min value into bar \n",
    "colors = [(\"red\" if i == max(dict1.values()) else (\"Yellow\" if i==min(dict1.values()) else \"blue\")) for i in dict1.values()];\n",
    "\n",
    "#ploting the graph\n",
    "\n",
    "plt.bar(range(len(dict1)), list(dict1.values()), align='center',color = colors)\n",
    "\n",
    "plt.xticks(range(len(dict1)), list(dict1.keys()))\n",
    "\n",
    "\n",
    "#ploting a Legend\n",
    "ColorLabels = {'Max time': 'Red','Min time':'Yellow'}\n",
    "labels = list(ColorLabels.keys())\n",
    "handles = [plt.Rectangle((0,0),1,1, color=ColorLabels[label]) for label in labels]\n",
    "plt.legend(handles, labels)\n",
    "\n",
    "#Naming the X and Y axis\n",
    "plt.xlabel(\"Steps\")\n",
    "plt.ylabel(\"Time\")\n",
    "#Displaying the bar plot \n",
    "plt.show()"
   ]
  },
  {
   "cell_type": "markdown",
   "id": "b7399abc-b66d-4707-848d-d243af1b2735",
   "metadata": {},
   "source": [
    "# Maximum time and Minimum  time taken by the steps "
   ]
  },
  {
   "cell_type": "code",
   "execution_count": 11,
   "id": "45ddf75f-1b7e-4f19-aca3-e1289a992e22",
   "metadata": {},
   "outputs": [],
   "source": [
    "\n",
    "Maximum = max(zip(dict1.values(),dict1.keys()))[1]"
   ]
  },
  {
   "cell_type": "code",
   "execution_count": 12,
   "id": "a9dd5820-a4f2-455b-b397-01120df92465",
   "metadata": {},
   "outputs": [
    {
     "name": "stdout",
     "output_type": "stream",
     "text": [
      "Maximum time 41.185 is taken by the step 9\n"
     ]
    }
   ],
   "source": [
    "print(\"Maximum time {time} is taken by the step {step}\".format(step = Maximum, time = max(dict1.values())))"
   ]
  },
  {
   "cell_type": "code",
   "execution_count": 13,
   "id": "f7da7e60-4d41-4913-b7b7-2b940117e652",
   "metadata": {},
   "outputs": [
    {
     "name": "stdout",
     "output_type": "stream",
     "text": [
      "Minimum time 2.30959 is taken by the step 5\n"
     ]
    }
   ],
   "source": [
    "Minimum = min(zip(dict1.values(),dict1.keys()))[1]\n",
    "print(\"Minimum time {time} is taken by the step {step}\".format(step = Minimum, time = min(dict1.values())))"
   ]
  },
  {
   "cell_type": "code",
   "execution_count": null,
   "id": "d96300f5-a0f4-40a1-829b-f2f1be4c07a5",
   "metadata": {},
   "outputs": [],
   "source": []
  }
 ],
 "metadata": {
  "kernelspec": {
   "display_name": "Python 3 (ipykernel)",
   "language": "python",
   "name": "python3"
  },
  "language_info": {
   "codemirror_mode": {
    "name": "ipython",
    "version": 3
   },
   "file_extension": ".py",
   "mimetype": "text/x-python",
   "name": "python",
   "nbconvert_exporter": "python",
   "pygments_lexer": "ipython3",
   "version": "3.8.5"
  }
 },
 "nbformat": 4,
 "nbformat_minor": 5
}
